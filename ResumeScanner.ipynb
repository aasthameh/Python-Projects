{
  "nbformat": 4,
  "nbformat_minor": 0,
  "metadata": {
    "colab": {
      "provenance": [],
      "authorship_tag": "ABX9TyMJAtbVAQ3kbH4WxodJOCL3",
      "include_colab_link": true
    },
    "kernelspec": {
      "name": "python3",
      "display_name": "Python 3"
    },
    "language_info": {
      "name": "python"
    }
  },
  "cells": [
    {
      "cell_type": "markdown",
      "metadata": {
        "id": "view-in-github",
        "colab_type": "text"
      },
      "source": [
        "<a href=\"https://colab.research.google.com/github/aasthameh/Python-Projects/blob/main/ResumeScanner.ipynb\" target=\"_parent\"><img src=\"https://colab.research.google.com/assets/colab-badge.svg\" alt=\"Open In Colab\"/></a>"
      ]
    },
    {
      "cell_type": "code",
      "execution_count": null,
      "metadata": {
        "id": "dEozLc2nk_-t",
        "outputId": "e9836364-4d72-4554-d549-43f420d77719",
        "colab": {
          "base_uri": "https://localhost:8080/",
          "height": 148
        }
      },
      "outputs": [
        {
          "output_type": "error",
          "ename": "SyntaxError",
          "evalue": "ignored",
          "traceback": [
            "\u001b[0;36m  File \u001b[0;32m\"<ipython-input-3-34aefd032c93>\"\u001b[0;36m, line \u001b[0;32m6\u001b[0m\n\u001b[0;31m    pdf=input('Please upload your resume link here' ).strip()if pdf[-5:] == '.docx':  pdf_use=docx2txt.process(pdf)else:  reader = PdfReader(pdf)  page = reader.pages[0]  pdf_use= page.extract_text()\u001b[0m\n\u001b[0m                                                                                   ^\u001b[0m\n\u001b[0;31mSyntaxError\u001b[0m\u001b[0;31m:\u001b[0m invalid syntax\n"
          ]
        }
      ],
      "source": [
        "from google.colab import drive\n",
        "drive.mount ('/content/gdrive')\n",
        "!pip install docx2txt\n",
        "import docx2txt\n",
        "[ ]\n",
        "pdf=input('Please upload your resume link here' ).strip()if pdf[-5:] == '.docx':  pdf_use=docx2txt.process(pdf)else:  reader = PdfReader(pdf)  page = reader.pages[0]  pdf_use= page.extract_text()\n",
        "pdf=input('Please upload your resume link here' ).strip()\n",
        "if pdf[-5:] == '.docx':\n",
        "  pdf_use=docx2txt.process(pdf)\n",
        "else:\n",
        "  reader = PdfReader(pdf)\n",
        "  page = reader.pages[0]\n",
        "  pdf_use= page.extract_text()\n",
        "\n",
        "\n",
        "\n",
        "\n",
        "[ ]\n",
        "[ ]\n",
        "reader = PdfReader(\"/content/gdrive/MyDrive/abc/sample-job-description.pdf\")page = reader.pages[0]JD = page.extract_text()JD\n",
        "reader = PdfReader(\"/content/gdrive/MyDrive/abc/sample-job-description.pdf\")\n",
        "\n",
        "page = reader.pages[0]\n",
        "JD = page.extract_text()\n",
        "JD\n",
        "\n",
        "!pip install PyPDF2\n",
        "from PyPDF2 import PdfReader"
      ]
    },
    {
      "cell_type": "code",
      "source": [
        "pdf=input('Please upload your resume link here' ).strip()\n",
        "if pdf[-5:] == '.docx':\n",
        "  pdf_use=docx2txt.process(pdf)\n",
        "else:\n",
        "  reader = PdfReader(pdf)\n",
        "  page = reader.pages[0]\n",
        "  pdf_use= page.extract_text()\n",
        "\n",
        "\n",
        "\n"
      ],
      "metadata": {
        "id": "_awU1w5AlfSh"
      },
      "execution_count": null,
      "outputs": []
    },
    {
      "cell_type": "code",
      "source": [],
      "metadata": {
        "id": "Ibc_17Ony8Ba"
      },
      "execution_count": null,
      "outputs": []
    },
    {
      "cell_type": "code",
      "source": [
        "reader = PdfReader(\"/content/gdrive/MyDrive/abc/sample-job-description.pdf\")\n",
        "\n",
        "page = reader.pages[0]\n",
        "JD = page.extract_text()\n",
        "JD"
      ],
      "metadata": {
        "id": "GglLOrt5u8i3"
      },
      "execution_count": null,
      "outputs": []
    },
    {
      "cell_type": "code",
      "source": [
        "content=[JD, pdf_use]"
      ],
      "metadata": {
        "id": "oYVFZ0D1l4AO"
      },
      "execution_count": null,
      "outputs": []
    },
    {
      "cell_type": "code",
      "source": [
        "import sklearn as sk\n",
        "from sklearn.feature_extraction.text import CountVectorizer\n",
        "cv= CountVectorizer()\n",
        "compare=cv.fit_transform(content)"
      ],
      "metadata": {
        "id": "sxr_NHaEzF19"
      },
      "execution_count": null,
      "outputs": []
    },
    {
      "cell_type": "code",
      "source": [
        "from sklearn.metrics.pairwise import cosine_similarity\n",
        "similarity= cosine_similarity(compare)\n",
        "print(similarity)"
      ],
      "metadata": {
        "id": "NAER0JHIzKGY"
      },
      "execution_count": null,
      "outputs": []
    },
    {
      "cell_type": "code",
      "source": [
        "similarity_percent=str(similarity[1][0]*100)[0:2]\n"
      ],
      "metadata": {
        "id": "WJbb5E4EzOiL"
      },
      "execution_count": null,
      "outputs": []
    },
    {
      "cell_type": "code",
      "source": [
        "a=('Resume matches by {}% !').format(similarity_percent)\n",
        "a"
      ],
      "metadata": {
        "id": "B4kucQdjzSaz"
      },
      "execution_count": null,
      "outputs": []
    },
    {
      "cell_type": "code",
      "source": [
        "import pickle\n",
        "resume_file=open('model.pkl', 'wb')\n",
        "pickle.dump(compare,resume_file)\n",
        "resume_file.close()"
      ],
      "metadata": {
        "id": "yjjXzeOO5IKC"
      },
      "execution_count": null,
      "outputs": []
    },
    {
      "cell_type": "code",
      "source": [
        "import os\n",
        "os.listdir()"
      ],
      "metadata": {
        "id": "HEJNNze96KFi"
      },
      "execution_count": null,
      "outputs": []
    },
    {
      "cell_type": "code",
      "source": [],
      "metadata": {
        "id": "T8AI735c8YXs"
      },
      "execution_count": null,
      "outputs": []
    }
  ]
}